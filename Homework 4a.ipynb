{
 "cells": [
  {
   "cell_type": "markdown",
   "metadata": {},
   "source": [
    "# Homework 4a: Plots in Python\n",
    "Physics 177, Spring 2018  \n",
    "**Due:** Thursday, April 26\n",
    "\n",
    "*Enter your name here*"
   ]
  },
  {
   "cell_type": "markdown",
   "metadata": {},
   "source": [
    "This week we will dive into more traditional computational physics by solving differential equations that are increasingly difficult. Here *difficult* means \"I can't solve that using pen and paper.\" Sometimes it also means \"*Mathematica* can't solve that analytically.\" I suspect that if you say the phrase \"Runge-Kutta\" enough people will believe that you're an expert numerical solutions to differential equations. Try it out on your friends.  \n",
    "\n",
    "The goal of this short homework is to make sure you have the tools to attack the longer homework. Be sure to bring any questions you have to class on Thursday, or ask ahead of time in the Gitter.\n",
    "\n",
    "**Reading**: This week we'll be drawing from *Computational Physics* by Newman, Chapter 8. Please focus on Chapter 8.1 - 8.3 for this week, but I encourage you to peruse the rest of the chapter. Next week we'll move to Chapter 9, partial differential equations. \n",
    "\n",
    "**Reading, additional**: You can also read Chapter 2.4 of Newman for more information about arrays and Numpy. We're going to be using them often."
   ]
  },
  {
   "cell_type": "markdown",
   "metadata": {},
   "source": [
    "## 1. Say hello on Gitter\n",
    "\n",
    "We will be using Gitter to ask questions to one another about the class and the homework. Please join the [Physics177-2018 Gitter](https://gitter.im/Physics177-2018/Lobby) and say hello. You should be able to log in with your GitHub account."
   ]
  },
  {
   "cell_type": "markdown",
   "metadata": {},
   "source": [
    "## 2. Euler's Method\n",
    "\n",
    "This is adapted from *Computational Physics*, example 8.1. \n",
    "\n",
    "Recall that Euler's method is the simplest and most obvious strategy for integrating a differential equation, $\\dot x = f(x,t)$,\n",
    "\n",
    "$$x(t+\\Delta t) = x(t) + f(x,t) \\Delta t \\ .$$\n",
    "\n",
    "Please use Euler's method, Numpy, and matplotlib to integrate\n",
    "\n",
    "$$\\dot x = f(x,t) = -x^3 + \\sin t \\ .$$\n",
    "\n",
    "We want to integrate this differential equation for $x(t)$ with the **initial condition** $x(0) = 0$. Determine the value of $x(10)$. Use 1000 steps. \n",
    "\n",
    "We will use some of the following tools:\n",
    "* `numpy.arange` ([reference](https://docs.scipy.org/doc/numpy/reference/generated/numpy.arange.html))"
   ]
  },
  {
   "cell_type": "code",
   "execution_count": null,
   "metadata": {},
   "outputs": [],
   "source": [
    "from math import sin\n",
    "from numpy import arange\n",
    "\n",
    "\n",
    "def f(x,t):\n",
    "    return # FILL THIS IN\n",
    "\n",
    "t0 = # FILL THIS IN\n",
    "t1 = # FILL THIS IN\n",
    "N = # FILL THIS IN\n",
    "dt = # FILL THIS IN\n",
    "\n",
    "# Initial value x(t0)\n",
    "x = # FILL THIS IN\n",
    "\n",
    "tpoints = # FILL THIS IN using arange\n",
    "xpoints = # FILL THIS IN initialize array\n",
    "\n",
    "for t in tpoints:\n",
    "    # FILL THIS IN"
   ]
  },
  {
   "cell_type": "code",
   "execution_count": null,
   "metadata": {},
   "outputs": [],
   "source": [
    "# RUN THIS (to check)\n",
    "for i in [1,2,3,4,5]:\n",
    "    print(xpoints[i])"
   ]
  },
  {
   "cell_type": "markdown",
   "metadata": {},
   "source": [
    "## 3. Plot it"
   ]
  },
  {
   "cell_type": "code",
   "execution_count": null,
   "metadata": {},
   "outputs": [],
   "source": [
    "%matplotlib inline\n",
    "import matplotlib.pyplot as plt\n",
    "plt.plot(tpoints, xpoints)\n",
    "plt.show()"
   ]
  },
  {
   "cell_type": "markdown",
   "metadata": {},
   "source": [
    "##  X. Extra Credit: Aesthetics\n",
    "\n",
    "A good plot has at least the following qualities:\n",
    "1. A title (or caption)  \n",
    "2. Labels for the axes (ideally with units, but we're ignoring that here) \n",
    "3. Somewhere: information about what's relevant in this plot (e.g. method, parameters of the method)\n",
    "\n",
    "Using whatever references (e.g. the [Pyplot tutorial](https://matplotlib.org/users/pyplot_tutorial.html)), please redraw the plot with these two features."
   ]
  },
  {
   "cell_type": "code",
   "execution_count": null,
   "metadata": {},
   "outputs": [],
   "source": [
    "%matplotlib inline\n",
    "import matplotlib.pyplot as plt\n",
    "plt.plot(tpoints, xpoints)\n",
    "\n",
    "# FILL THIS IN\n",
    "\n",
    "plt.show()"
   ]
  }
 ],
 "metadata": {
  "kernelspec": {
   "display_name": "Python 3",
   "language": "python",
   "name": "python3"
  },
  "language_info": {
   "codemirror_mode": {
    "name": "ipython",
    "version": 3
   },
   "file_extension": ".py",
   "mimetype": "text/x-python",
   "name": "python",
   "nbconvert_exporter": "python",
   "pygments_lexer": "ipython3",
   "version": "3.6.3"
  }
 },
 "nbformat": 4,
 "nbformat_minor": 2
}
